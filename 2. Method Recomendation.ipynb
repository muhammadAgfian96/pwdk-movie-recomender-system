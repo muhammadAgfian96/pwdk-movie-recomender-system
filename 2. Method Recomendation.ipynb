{
 "cells": [
  {
   "cell_type": "code",
   "execution_count": 1,
   "metadata": {},
   "outputs": [],
   "source": [
    "import warnings\n",
    "warnings.simplefilter('ignore')"
   ]
  },
  {
   "cell_type": "code",
   "execution_count": 2,
   "metadata": {},
   "outputs": [],
   "source": [
    "import numpy as np\n",
    "import pandas as pd\n",
    "\n",
    "import matplotlib.pyplot as plt\n",
    "import seaborn as sns\n",
    "import pickle\n",
    "import datetime\n",
    "\n",
    "from sklearn.metrics.pairwise import cosine_similarity\n",
    "\n",
    "from ast import literal_eval"
   ]
  },
  {
   "cell_type": "code",
   "execution_count": 3,
   "metadata": {},
   "outputs": [],
   "source": [
    "pd.set_option('display.max_columns', 500)"
   ]
  },
  {
   "cell_type": "code",
   "execution_count": 4,
   "metadata": {},
   "outputs": [],
   "source": [
    "# md = movie dataset\n",
    "md_rating_small = pd.read_csv('ratings_small.csv')\n",
    "md_meta = pd.read_csv('movies_metadata.csv')\n",
    "md_link_small = pd.read_csv('links_small.csv')\n",
    "md_terpilih = pd.read_csv('data_cleaning.csv',sep=',')"
   ]
  },
  {
   "cell_type": "code",
   "execution_count": 5,
   "metadata": {},
   "outputs": [
    {
     "name": "stdout",
     "output_type": "stream",
     "text": [
      "sebelum drop duplicate:  (45548, 22)\n",
      "Sesudah drop duplicate:  (41292, 22)\n"
     ]
    }
   ],
   "source": [
    "md_terpilih['release_date'] = pd.to_datetime(md_terpilih['release_date'])\n",
    "md_terpilih.drop(columns=['Unnamed: 0'],inplace=True)\n",
    "print(\"sebelum drop duplicate: \",md_terpilih.shape)\n",
    "md_terpilih.drop_duplicates(subset=['title'], inplace=True)\n",
    "print(\"Sesudah drop duplicate: \",md_terpilih.shape)"
   ]
  },
  {
   "cell_type": "code",
   "execution_count": 6,
   "metadata": {},
   "outputs": [
    {
     "data": {
      "text/html": [
       "<div>\n",
       "<style scoped>\n",
       "    .dataframe tbody tr th:only-of-type {\n",
       "        vertical-align: middle;\n",
       "    }\n",
       "\n",
       "    .dataframe tbody tr th {\n",
       "        vertical-align: top;\n",
       "    }\n",
       "\n",
       "    .dataframe thead th {\n",
       "        text-align: right;\n",
       "    }\n",
       "</style>\n",
       "<table border=\"1\" class=\"dataframe\">\n",
       "  <thead>\n",
       "    <tr style=\"text-align: right;\">\n",
       "      <th></th>\n",
       "      <th>id</th>\n",
       "      <th>poster_path</th>\n",
       "      <th>title</th>\n",
       "      <th>vote_average</th>\n",
       "      <th>vote_count</th>\n",
       "      <th>weighted_rating</th>\n",
       "      <th>popularity</th>\n",
       "      <th>budget</th>\n",
       "      <th>revenue</th>\n",
       "      <th>runtime</th>\n",
       "      <th>genre_new</th>\n",
       "      <th>lang_new</th>\n",
       "      <th>name_companies</th>\n",
       "      <th>name_country</th>\n",
       "      <th>cast_name</th>\n",
       "      <th>director_name</th>\n",
       "      <th>overview</th>\n",
       "      <th>words</th>\n",
       "      <th>release_date</th>\n",
       "      <th>year</th>\n",
       "      <th>month</th>\n",
       "      <th>day</th>\n",
       "    </tr>\n",
       "  </thead>\n",
       "  <tbody>\n",
       "    <tr>\n",
       "      <th>0</th>\n",
       "      <td>862</td>\n",
       "      <td>https://image.tmdb.org/t/p/original/rhIRbceoE9...</td>\n",
       "      <td>Toy Story</td>\n",
       "      <td>7.7</td>\n",
       "      <td>5415.0</td>\n",
       "      <td>7.640091</td>\n",
       "      <td>21.946943</td>\n",
       "      <td>30000000</td>\n",
       "      <td>373554033.0</td>\n",
       "      <td>81.0</td>\n",
       "      <td>['Animation', 'Comedy', 'Family']</td>\n",
       "      <td>['English']</td>\n",
       "      <td>['PixarAnimationStudios']</td>\n",
       "      <td>['UnitedStatesofAmerica']</td>\n",
       "      <td>['TomHanks', 'TimAllen', 'DonRickles', 'JimVar...</td>\n",
       "      <td>['JohnLasseter']</td>\n",
       "      <td>Led by Woody, Andy's toys live happily in his ...</td>\n",
       "      <td>['jealousy', 'toy', 'boy', 'friendship', 'frie...</td>\n",
       "      <td>1995-10-30</td>\n",
       "      <td>1995</td>\n",
       "      <td>10</td>\n",
       "      <td>30</td>\n",
       "    </tr>\n",
       "    <tr>\n",
       "      <th>1</th>\n",
       "      <td>8844</td>\n",
       "      <td>https://image.tmdb.org/t/p/original/vzmL6fP7aP...</td>\n",
       "      <td>Jumanji</td>\n",
       "      <td>6.9</td>\n",
       "      <td>2413.0</td>\n",
       "      <td>6.820579</td>\n",
       "      <td>17.015539</td>\n",
       "      <td>65000000</td>\n",
       "      <td>262797249.0</td>\n",
       "      <td>104.0</td>\n",
       "      <td>['Adventure', 'Fantasy', 'Family']</td>\n",
       "      <td>['English', 'Français']</td>\n",
       "      <td>['TriStarPictures', 'TeitlerFilm', 'Interscope...</td>\n",
       "      <td>['UnitedStatesofAmerica']</td>\n",
       "      <td>['RobinWilliams', 'JonathanHyde', 'KirstenDuns...</td>\n",
       "      <td>['JoeJohnston']</td>\n",
       "      <td>When siblings Judy and Peter discover an encha...</td>\n",
       "      <td>['board game', 'disappearance', \"based on chil...</td>\n",
       "      <td>1995-12-15</td>\n",
       "      <td>1995</td>\n",
       "      <td>12</td>\n",
       "      <td>15</td>\n",
       "    </tr>\n",
       "  </tbody>\n",
       "</table>\n",
       "</div>"
      ],
      "text/plain": [
       "     id                                        poster_path      title  \\\n",
       "0   862  https://image.tmdb.org/t/p/original/rhIRbceoE9...  Toy Story   \n",
       "1  8844  https://image.tmdb.org/t/p/original/vzmL6fP7aP...    Jumanji   \n",
       "\n",
       "   vote_average  vote_count  weighted_rating  popularity    budget  \\\n",
       "0           7.7      5415.0         7.640091   21.946943  30000000   \n",
       "1           6.9      2413.0         6.820579   17.015539  65000000   \n",
       "\n",
       "       revenue  runtime                           genre_new  \\\n",
       "0  373554033.0     81.0   ['Animation', 'Comedy', 'Family']   \n",
       "1  262797249.0    104.0  ['Adventure', 'Fantasy', 'Family']   \n",
       "\n",
       "                  lang_new                                     name_companies  \\\n",
       "0              ['English']                          ['PixarAnimationStudios']   \n",
       "1  ['English', 'Français']  ['TriStarPictures', 'TeitlerFilm', 'Interscope...   \n",
       "\n",
       "                name_country  \\\n",
       "0  ['UnitedStatesofAmerica']   \n",
       "1  ['UnitedStatesofAmerica']   \n",
       "\n",
       "                                           cast_name     director_name  \\\n",
       "0  ['TomHanks', 'TimAllen', 'DonRickles', 'JimVar...  ['JohnLasseter']   \n",
       "1  ['RobinWilliams', 'JonathanHyde', 'KirstenDuns...   ['JoeJohnston']   \n",
       "\n",
       "                                            overview  \\\n",
       "0  Led by Woody, Andy's toys live happily in his ...   \n",
       "1  When siblings Judy and Peter discover an encha...   \n",
       "\n",
       "                                               words release_date  year  \\\n",
       "0  ['jealousy', 'toy', 'boy', 'friendship', 'frie...   1995-10-30  1995   \n",
       "1  ['board game', 'disappearance', \"based on chil...   1995-12-15  1995   \n",
       "\n",
       "   month  day  \n",
       "0     10   30  \n",
       "1     12   15  "
      ]
     },
     "execution_count": 6,
     "metadata": {},
     "output_type": "execute_result"
    }
   ],
   "source": [
    "md_terpilih.head(2)"
   ]
  },
  {
   "cell_type": "code",
   "execution_count": 7,
   "metadata": {},
   "outputs": [
    {
     "name": "stdout",
     "output_type": "stream",
     "text": [
      "<class 'pandas.core.frame.DataFrame'>\n",
      "Int64Index: 41292 entries, 0 to 45547\n",
      "Data columns (total 22 columns):\n",
      "id                 41292 non-null int64\n",
      "poster_path        41292 non-null object\n",
      "title              41292 non-null object\n",
      "vote_average       41292 non-null float64\n",
      "vote_count         41292 non-null float64\n",
      "weighted_rating    41292 non-null float64\n",
      "popularity         41292 non-null float64\n",
      "budget             41292 non-null int64\n",
      "revenue            41292 non-null float64\n",
      "runtime            41292 non-null float64\n",
      "genre_new          41292 non-null object\n",
      "lang_new           41292 non-null object\n",
      "name_companies     41292 non-null object\n",
      "name_country       41292 non-null object\n",
      "cast_name          41292 non-null object\n",
      "director_name      41292 non-null object\n",
      "overview           41292 non-null object\n",
      "words              41292 non-null object\n",
      "release_date       41292 non-null datetime64[ns]\n",
      "year               41292 non-null int64\n",
      "month              41292 non-null int64\n",
      "day                41292 non-null int64\n",
      "dtypes: datetime64[ns](1), float64(6), int64(5), object(10)\n",
      "memory usage: 7.2+ MB\n"
     ]
    }
   ],
   "source": [
    "md_terpilih.info()"
   ]
  },
  {
   "cell_type": "code",
   "execution_count": 8,
   "metadata": {},
   "outputs": [],
   "source": [
    "md_terpilih = md_terpilih.sort_values('release_date', ascending=False)"
   ]
  },
  {
   "cell_type": "markdown",
   "metadata": {},
   "source": [
    "**<font style=\"color:#1CAD8A;\"># Export md_terpilih to Pickle</font>**"
   ]
  },
  {
   "cell_type": "code",
   "execution_count": 9,
   "metadata": {},
   "outputs": [],
   "source": [
    "# https://www.datacamp.com/community/tutorials/pickle-python-tutorial\n",
    "# perintah export pickle\n",
    "filename = 'md_terpilih.sav'\n",
    "outfile = open(filename,'wb')\n",
    "pickle.dump(md_terpilih, outfile)\n",
    "outfile.close()"
   ]
  },
  {
   "cell_type": "markdown",
   "metadata": {},
   "source": [
    "# Demographic Filtering"
   ]
  },
  {
   "cell_type": "markdown",
   "metadata": {},
   "source": [
    "## ==== Based On Weight Rating ===="
   ]
  },
  {
   "cell_type": "markdown",
   "metadata": {},
   "source": [
    "**rumus weight rating (WR)**\n",
    "\n",
    "$$ WR = (v / (v+m))*R + (m / (v+m))*C $$\n",
    "\n",
    "- v adalah jumlah vote dalam sebuah movie\n",
    "- m is jumlah vote minimum untuk sebuah movie agar dapat masuk dalam list\n",
    "- R is nilai rating rata2 sebuah film\n",
    "- C is the mean vote across the whole report"
   ]
  },
  {
   "cell_type": "code",
   "execution_count": 10,
   "metadata": {},
   "outputs": [
    {
     "data": {
      "text/plain": [
       "(45466, 24)"
      ]
     },
     "execution_count": 10,
     "metadata": {},
     "output_type": "execute_result"
    }
   ],
   "source": [
    "md_meta.shape"
   ]
  },
  {
   "cell_type": "code",
   "execution_count": 11,
   "metadata": {},
   "outputs": [
    {
     "data": {
      "text/plain": [
       "(41292, 22)"
      ]
     },
     "execution_count": 11,
     "metadata": {},
     "output_type": "execute_result"
    }
   ],
   "source": [
    "md_terpilih.shape"
   ]
  },
  {
   "cell_type": "code",
   "execution_count": 12,
   "metadata": {},
   "outputs": [],
   "source": [
    "m = md_meta['vote_count'].quantile(0.95)\n",
    "C = md_meta['vote_average'].mean()"
   ]
  },
  {
   "cell_type": "code",
   "execution_count": 13,
   "metadata": {},
   "outputs": [
    {
     "data": {
      "text/plain": [
       "(2096, 22)"
      ]
     },
     "execution_count": 13,
     "metadata": {},
     "output_type": "execute_result"
    }
   ],
   "source": [
    "df_top_movie = md_terpilih.copy().loc[md_terpilih['vote_count'] >= m]\n",
    "df_top_movie.shape"
   ]
  },
  {
   "cell_type": "code",
   "execution_count": 14,
   "metadata": {
    "scrolled": false
   },
   "outputs": [
    {
     "name": "stdout",
     "output_type": "stream",
     "text": [
      "<class 'pandas.core.frame.DataFrame'>\n",
      "Int64Index: 2096 entries, 44751 to 1903\n",
      "Data columns (total 22 columns):\n",
      "id                 2096 non-null int64\n",
      "poster_path        2096 non-null object\n",
      "title              2096 non-null object\n",
      "vote_average       2096 non-null float64\n",
      "vote_count         2096 non-null float64\n",
      "weighted_rating    2096 non-null float64\n",
      "popularity         2096 non-null float64\n",
      "budget             2096 non-null int64\n",
      "revenue            2096 non-null float64\n",
      "runtime            2096 non-null float64\n",
      "genre_new          2096 non-null object\n",
      "lang_new           2096 non-null object\n",
      "name_companies     2096 non-null object\n",
      "name_country       2096 non-null object\n",
      "cast_name          2096 non-null object\n",
      "director_name      2096 non-null object\n",
      "overview           2096 non-null object\n",
      "words              2096 non-null object\n",
      "release_date       2096 non-null datetime64[ns]\n",
      "year               2096 non-null int64\n",
      "month              2096 non-null int64\n",
      "day                2096 non-null int64\n",
      "dtypes: datetime64[ns](1), float64(6), int64(5), object(10)\n",
      "memory usage: 376.6+ KB\n"
     ]
    }
   ],
   "source": [
    "df_top_movie.info()"
   ]
  },
  {
   "cell_type": "code",
   "execution_count": 15,
   "metadata": {},
   "outputs": [],
   "source": [
    "def weighted_rating(x, m=m, C=C):\n",
    "    v = x['vote_count']\n",
    "    R = x['vote_average']\n",
    "    hasil = (v/(v+m)) * R + (m/(v+m)) * C\n",
    "    return hasil"
   ]
  },
  {
   "cell_type": "code",
   "execution_count": 16,
   "metadata": {},
   "outputs": [],
   "source": [
    "df_top_movie['weight_rating'] = df_top_movie.apply(weighted_rating, axis=1)"
   ]
  },
  {
   "cell_type": "code",
   "execution_count": 17,
   "metadata": {},
   "outputs": [
    {
     "name": "stdout",
     "output_type": "stream",
     "text": [
      "The Shawshank Redemption\n"
     ]
    },
    {
     "data": {
      "text/html": [
       "<div>\n",
       "<style scoped>\n",
       "    .dataframe tbody tr th:only-of-type {\n",
       "        vertical-align: middle;\n",
       "    }\n",
       "\n",
       "    .dataframe tbody tr th {\n",
       "        vertical-align: top;\n",
       "    }\n",
       "\n",
       "    .dataframe thead th {\n",
       "        text-align: right;\n",
       "    }\n",
       "</style>\n",
       "<table border=\"1\" class=\"dataframe\">\n",
       "  <thead>\n",
       "    <tr style=\"text-align: right;\">\n",
       "      <th></th>\n",
       "      <th>id</th>\n",
       "      <th>poster_path</th>\n",
       "      <th>title</th>\n",
       "      <th>vote_average</th>\n",
       "      <th>vote_count</th>\n",
       "      <th>weighted_rating</th>\n",
       "      <th>popularity</th>\n",
       "      <th>budget</th>\n",
       "      <th>revenue</th>\n",
       "      <th>runtime</th>\n",
       "      <th>genre_new</th>\n",
       "      <th>lang_new</th>\n",
       "      <th>name_companies</th>\n",
       "      <th>name_country</th>\n",
       "      <th>cast_name</th>\n",
       "      <th>director_name</th>\n",
       "      <th>overview</th>\n",
       "      <th>words</th>\n",
       "      <th>release_date</th>\n",
       "      <th>year</th>\n",
       "      <th>month</th>\n",
       "      <th>day</th>\n",
       "      <th>weight_rating</th>\n",
       "    </tr>\n",
       "  </thead>\n",
       "  <tbody>\n",
       "    <tr>\n",
       "      <th>312</th>\n",
       "      <td>278</td>\n",
       "      <td>https://image.tmdb.org/t/p/original/9O7gLzmreU...</td>\n",
       "      <td>The Shawshank Redemption</td>\n",
       "      <td>8.5</td>\n",
       "      <td>8358.0</td>\n",
       "      <td>8.445574</td>\n",
       "      <td>51.645403</td>\n",
       "      <td>25000000</td>\n",
       "      <td>28341469.0</td>\n",
       "      <td>142.0</td>\n",
       "      <td>['Drama', 'Crime']</td>\n",
       "      <td>['English']</td>\n",
       "      <td>['CastleRockEntertainment', 'WarnerBros.']</td>\n",
       "      <td>['UnitedStatesofAmerica']</td>\n",
       "      <td>['TimRobbins', 'MorganFreeman', 'BobGunton', '...</td>\n",
       "      <td>['FrankDarabont']</td>\n",
       "      <td>Framed in the 1940s for the double murder of h...</td>\n",
       "      <td>['prison', 'corruption', 'police brutality', '...</td>\n",
       "      <td>1994-09-23</td>\n",
       "      <td>1994</td>\n",
       "      <td>9</td>\n",
       "      <td>23</td>\n",
       "      <td>8.357746</td>\n",
       "    </tr>\n",
       "  </tbody>\n",
       "</table>\n",
       "</div>"
      ],
      "text/plain": [
       "      id                                        poster_path  \\\n",
       "312  278  https://image.tmdb.org/t/p/original/9O7gLzmreU...   \n",
       "\n",
       "                        title  vote_average  vote_count  weighted_rating  \\\n",
       "312  The Shawshank Redemption           8.5      8358.0         8.445574   \n",
       "\n",
       "     popularity    budget     revenue  runtime           genre_new  \\\n",
       "312   51.645403  25000000  28341469.0    142.0  ['Drama', 'Crime']   \n",
       "\n",
       "        lang_new                              name_companies  \\\n",
       "312  ['English']  ['CastleRockEntertainment', 'WarnerBros.']   \n",
       "\n",
       "                  name_country  \\\n",
       "312  ['UnitedStatesofAmerica']   \n",
       "\n",
       "                                             cast_name      director_name  \\\n",
       "312  ['TimRobbins', 'MorganFreeman', 'BobGunton', '...  ['FrankDarabont']   \n",
       "\n",
       "                                              overview  \\\n",
       "312  Framed in the 1940s for the double murder of h...   \n",
       "\n",
       "                                                 words release_date  year  \\\n",
       "312  ['prison', 'corruption', 'police brutality', '...   1994-09-23  1994   \n",
       "\n",
       "     month  day  weight_rating  \n",
       "312      9   23       8.357746  "
      ]
     },
     "execution_count": 17,
     "metadata": {},
     "output_type": "execute_result"
    }
   ],
   "source": [
    "ha = df_top_movie[df_top_movie['id']==278]\n",
    "print(ha['title'].iloc[0])\n",
    "ha"
   ]
  },
  {
   "cell_type": "markdown",
   "metadata": {},
   "source": [
    "**<font style=\"color:#1CAD8A;\"># Export df_top_movie to Pickle</font>**"
   ]
  },
  {
   "cell_type": "code",
   "execution_count": 18,
   "metadata": {},
   "outputs": [],
   "source": [
    "# https://www.datacamp.com/community/tutorials/pickle-python-tutorial\n",
    "# perintah export pickle\n",
    "filename = 'df_top_movie.sav'\n",
    "outfile = open(filename,'wb')\n",
    "\n",
    "pickle.dump(df_top_movie, outfile)\n",
    "outfile.close()"
   ]
  },
  {
   "cell_type": "markdown",
   "metadata": {},
   "source": [
    "## based on popularity"
   ]
  },
  {
   "cell_type": "code",
   "execution_count": 19,
   "metadata": {},
   "outputs": [],
   "source": [
    "md_terpilih['popularity'] = md_terpilih['popularity'].apply(lambda x : float(x))"
   ]
  },
  {
   "cell_type": "code",
   "execution_count": 20,
   "metadata": {},
   "outputs": [],
   "source": [
    "top_ten_pop = md_terpilih.sort_values(by='popularity', ascending=False)[['id', 'poster_path','title', 'popularity']]"
   ]
  },
  {
   "cell_type": "code",
   "execution_count": 21,
   "metadata": {},
   "outputs": [],
   "source": [
    "# export to pickle\n",
    "top_ten_pop\n",
    "\n",
    "filename = 'df_top_ten.sav'\n",
    "outfile = open(filename,'wb')\n",
    "\n",
    "pickle.dump(top_ten_pop, outfile)\n",
    "outfile.close()"
   ]
  },
  {
   "cell_type": "code",
   "execution_count": 22,
   "metadata": {},
   "outputs": [
    {
     "data": {
      "text/plain": [
       "<matplotlib.axes._subplots.AxesSubplot at 0x21f9ba56438>"
      ]
     },
     "execution_count": 22,
     "metadata": {},
     "output_type": "execute_result"
    },
    {
     "data": {
      "image/png": "[encoded data removed]",
      "text/plain": [
       "<Figure size 432x288 with 1 Axes>"
      ]
     },
     "metadata": {
      "needs_background": "light"
     },
     "output_type": "display_data"
    }
   ],
   "source": [
    "sns.barplot(data=top_ten_pop.head(10), x='popularity', y='title', orient='h')"
   ]
  },
  {
   "cell_type": "markdown",
   "metadata": {},
   "source": [
    "# Content Based\n",
    "\n",
    "## based on genre"
   ]
  },
  {
   "cell_type": "code",
   "execution_count": 23,
   "metadata": {},
   "outputs": [],
   "source": [
    "from sklearn.feature_extraction.text import CountVectorizer\n",
    "from sklearn.metrics.pairwise import cosine_similarity\n",
    "from sklearn.metrics.pairwise import linear_kernel"
   ]
  },
  {
   "cell_type": "code",
   "execution_count": 24,
   "metadata": {},
   "outputs": [],
   "source": [
    "cb_genres = md_terpilih[md_terpilih['vote_count']>300]"
   ]
  },
  {
   "cell_type": "code",
   "execution_count": 25,
   "metadata": {},
   "outputs": [],
   "source": [
    "cv_genre = CountVectorizer() \n",
    "trans_genre = cv_genre.fit_transform(cb_genres['genre_new'])"
   ]
  },
  {
   "cell_type": "code",
   "execution_count": 26,
   "metadata": {},
   "outputs": [],
   "source": [
    "df_sim_genre = pd.DataFrame(trans_genre.todense(),\n",
    "                     columns=cv_genre.get_feature_names(),index=cb_genres['title'])"
   ]
  },
  {
   "cell_type": "code",
   "execution_count": 27,
   "metadata": {},
   "outputs": [],
   "source": [
    "cos_sim_genre = cosine_similarity(trans_genre)"
   ]
  },
  {
   "cell_type": "code",
   "execution_count": 28,
   "metadata": {},
   "outputs": [],
   "source": [
    "sim_score_genre = pd.DataFrame(cos_sim_genre, index=cb_genres['title'], columns=cb_genres['title'])"
   ]
  },
  {
   "cell_type": "code",
   "execution_count": 29,
   "metadata": {},
   "outputs": [],
   "source": [
    "def rec_genre(title):\n",
    "    simpan = sim_score_genre[title].sort_values(ascending=False)\n",
    "    simpan = simpan.drop(index=[title])\n",
    "    print(simpan.head(10))"
   ]
  },
  {
   "cell_type": "code",
   "execution_count": 30,
   "metadata": {
    "scrolled": true
   },
   "outputs": [
    {
     "name": "stdout",
     "output_type": "stream",
     "text": [
      "title\n",
      "Surf's Up                              1.0\n",
      "Hotel Transylvania 2                   1.0\n",
      "The Great Mouse Detective              1.0\n",
      "Oliver & Company                       1.0\n",
      "Hop                                    1.0\n",
      "Garfield: A Tail of Two Kitties        1.0\n",
      "Looney Tunes: Back in Action           1.0\n",
      "Cloudy with a Chance of Meatballs 2    1.0\n",
      "The Simpsons Movie                     1.0\n",
      "The Boss Baby                          1.0\n",
      "Name: Toy Story, dtype: float64\n"
     ]
    }
   ],
   "source": [
    "rec_genre('Toy Story')"
   ]
  },
  {
   "cell_type": "markdown",
   "metadata": {},
   "source": [
    "**<font style=\"color:#1CAD8A;\"># Export sim_score_genre to Pickle</font>**"
   ]
  },
  {
   "cell_type": "code",
   "execution_count": 31,
   "metadata": {},
   "outputs": [],
   "source": [
    "# https://www.datacamp.com/community/tutorials/pickle-python-tutorial\n",
    "# perintah export pickle\n",
    "filename = 'df_sim_score_genre.sav'\n",
    "outfile = open(filename,'wb')\n",
    "\n",
    "pickle.dump(sim_score_genre, outfile)\n",
    "outfile.close()"
   ]
  },
  {
   "cell_type": "markdown",
   "metadata": {},
   "source": [
    "### based on keywords"
   ]
  },
  {
   "cell_type": "code",
   "execution_count": 32,
   "metadata": {},
   "outputs": [],
   "source": [
    "cv3 = CountVectorizer() \n",
    "cv_key_result = cv3.fit_transform(cb_genres['words'])"
   ]
  },
  {
   "cell_type": "code",
   "execution_count": 33,
   "metadata": {},
   "outputs": [],
   "source": [
    "cos_sim_key = cosine_similarity(cv_key_result)"
   ]
  },
  {
   "cell_type": "code",
   "execution_count": 34,
   "metadata": {},
   "outputs": [],
   "source": [
    "df_key_rec = pd.DataFrame(cos_sim_key, index=cb_genres['title'], columns=cb_genres['title'])"
   ]
  },
  {
   "cell_type": "code",
   "execution_count": 35,
   "metadata": {},
   "outputs": [],
   "source": [
    "def rec_key(title):\n",
    "    simpan = df_key_rec[title].sort_values(ascending=False)\n",
    "    simpan = simpan.drop(index=[title])\n",
    "    print(simpan.head(10))\n",
    "\n",
    "simpan = df_key_rec['Toy Story'].sort_values(ascending=False)\n",
    "simpan = simpan.drop(index=['Toy Story'])\n",
    "df_head = simpan.head(10)"
   ]
  },
  {
   "cell_type": "code",
   "execution_count": 36,
   "metadata": {},
   "outputs": [
    {
     "data": {
      "text/plain": [
       "title\n",
       "Small Soldiers                    0.559503\n",
       "Toy Story 3                       0.508168\n",
       "Child's Play 2                    0.442326\n",
       "Ted                               0.440086\n",
       "Child's Play                      0.430528\n",
       "Pinocchio                         0.373002\n",
       "Toy Story 2                       0.348481\n",
       "Curse of Chucky                   0.346989\n",
       "Ted 2                             0.346989\n",
       "Mr. Magorium's Wonder Emporium    0.323029\n",
       "Name: Toy Story, dtype: float64"
      ]
     },
     "execution_count": 36,
     "metadata": {},
     "output_type": "execute_result"
    }
   ],
   "source": [
    "df_head"
   ]
  },
  {
   "cell_type": "code",
   "execution_count": 37,
   "metadata": {},
   "outputs": [],
   "source": [
    "val_title_idx = pd.DataFrame(df_head).index\n",
    "df_head = pd.DataFrame({\n",
    "    'title' : val_title_idx\n",
    "})"
   ]
  },
  {
   "cell_type": "code",
   "execution_count": 38,
   "metadata": {},
   "outputs": [
    {
     "data": {
      "text/html": [
       "<div>\n",
       "<style scoped>\n",
       "    .dataframe tbody tr th:only-of-type {\n",
       "        vertical-align: middle;\n",
       "    }\n",
       "\n",
       "    .dataframe tbody tr th {\n",
       "        vertical-align: top;\n",
       "    }\n",
       "\n",
       "    .dataframe thead th {\n",
       "        text-align: right;\n",
       "    }\n",
       "</style>\n",
       "<table border=\"1\" class=\"dataframe\">\n",
       "  <thead>\n",
       "    <tr style=\"text-align: right;\">\n",
       "      <th></th>\n",
       "      <th>title</th>\n",
       "    </tr>\n",
       "  </thead>\n",
       "  <tbody>\n",
       "    <tr>\n",
       "      <th>0</th>\n",
       "      <td>Small Soldiers</td>\n",
       "    </tr>\n",
       "    <tr>\n",
       "      <th>1</th>\n",
       "      <td>Toy Story 3</td>\n",
       "    </tr>\n",
       "    <tr>\n",
       "      <th>2</th>\n",
       "      <td>Child's Play 2</td>\n",
       "    </tr>\n",
       "    <tr>\n",
       "      <th>3</th>\n",
       "      <td>Ted</td>\n",
       "    </tr>\n",
       "    <tr>\n",
       "      <th>4</th>\n",
       "      <td>Child's Play</td>\n",
       "    </tr>\n",
       "    <tr>\n",
       "      <th>5</th>\n",
       "      <td>Pinocchio</td>\n",
       "    </tr>\n",
       "    <tr>\n",
       "      <th>6</th>\n",
       "      <td>Toy Story 2</td>\n",
       "    </tr>\n",
       "    <tr>\n",
       "      <th>7</th>\n",
       "      <td>Curse of Chucky</td>\n",
       "    </tr>\n",
       "    <tr>\n",
       "      <th>8</th>\n",
       "      <td>Ted 2</td>\n",
       "    </tr>\n",
       "    <tr>\n",
       "      <th>9</th>\n",
       "      <td>Mr. Magorium's Wonder Emporium</td>\n",
       "    </tr>\n",
       "  </tbody>\n",
       "</table>\n",
       "</div>"
      ],
      "text/plain": [
       "                            title\n",
       "0                  Small Soldiers\n",
       "1                     Toy Story 3\n",
       "2                  Child's Play 2\n",
       "3                             Ted\n",
       "4                    Child's Play\n",
       "5                       Pinocchio\n",
       "6                     Toy Story 2\n",
       "7                 Curse of Chucky\n",
       "8                           Ted 2\n",
       "9  Mr. Magorium's Wonder Emporium"
      ]
     },
     "execution_count": 38,
     "metadata": {},
     "output_type": "execute_result"
    }
   ],
   "source": [
    "df_head"
   ]
  },
  {
   "cell_type": "code",
   "execution_count": 39,
   "metadata": {},
   "outputs": [
    {
     "data": {
      "text/html": [
       "<div>\n",
       "<style scoped>\n",
       "    .dataframe tbody tr th:only-of-type {\n",
       "        vertical-align: middle;\n",
       "    }\n",
       "\n",
       "    .dataframe tbody tr th {\n",
       "        vertical-align: top;\n",
       "    }\n",
       "\n",
       "    .dataframe thead th {\n",
       "        text-align: right;\n",
       "    }\n",
       "</style>\n",
       "<table border=\"1\" class=\"dataframe\">\n",
       "  <thead>\n",
       "    <tr style=\"text-align: right;\">\n",
       "      <th></th>\n",
       "      <th>id</th>\n",
       "      <th>poster_path</th>\n",
       "      <th>title</th>\n",
       "      <th>vote_average</th>\n",
       "      <th>vote_count</th>\n",
       "      <th>weighted_rating</th>\n",
       "      <th>popularity</th>\n",
       "      <th>budget</th>\n",
       "      <th>revenue</th>\n",
       "      <th>runtime</th>\n",
       "      <th>genre_new</th>\n",
       "      <th>lang_new</th>\n",
       "      <th>name_companies</th>\n",
       "      <th>name_country</th>\n",
       "      <th>cast_name</th>\n",
       "      <th>director_name</th>\n",
       "      <th>overview</th>\n",
       "      <th>words</th>\n",
       "      <th>release_date</th>\n",
       "      <th>year</th>\n",
       "      <th>month</th>\n",
       "      <th>day</th>\n",
       "    </tr>\n",
       "  </thead>\n",
       "  <tbody>\n",
       "    <tr>\n",
       "      <th>0</th>\n",
       "      <td>214756</td>\n",
       "      <td>https://image.tmdb.org/t/p/original/A7HtCxFe7M...</td>\n",
       "      <td>Ted 2</td>\n",
       "      <td>6.2</td>\n",
       "      <td>2524.0</td>\n",
       "      <td>6.166080</td>\n",
       "      <td>42.061481</td>\n",
       "      <td>68000000</td>\n",
       "      <td>2.170226e+08</td>\n",
       "      <td>115.0</td>\n",
       "      <td>['Comedy']</td>\n",
       "      <td>['English']</td>\n",
       "      <td>['UniversalPictures', 'FuzzyDoorProductions', ...</td>\n",
       "      <td>['UnitedStatesofAmerica']</td>\n",
       "      <td>['MarkWahlberg', 'SethMacFarlane', 'AmandaSeyf...</td>\n",
       "      <td>['SethMacFarlane']</td>\n",
       "      <td>Newlywed couple Ted and Tami-Lynn want to have...</td>\n",
       "      <td>['sperm bank', 'sequel', 'buddy', 'courthouse'...</td>\n",
       "      <td>2015-06-25</td>\n",
       "      <td>2015</td>\n",
       "      <td>6</td>\n",
       "      <td>25</td>\n",
       "    </tr>\n",
       "    <tr>\n",
       "      <th>1</th>\n",
       "      <td>167032</td>\n",
       "      <td>https://image.tmdb.org/t/p/original/qoFfZa6b9x...</td>\n",
       "      <td>Curse of Chucky</td>\n",
       "      <td>5.6</td>\n",
       "      <td>417.0</td>\n",
       "      <td>5.610518</td>\n",
       "      <td>15.771245</td>\n",
       "      <td>5000000</td>\n",
       "      <td>0.000000e+00</td>\n",
       "      <td>97.0</td>\n",
       "      <td>['Horror', 'Thriller']</td>\n",
       "      <td>['English']</td>\n",
       "      <td>['Universal1440Entertainment']</td>\n",
       "      <td>['UnitedStatesofAmerica']</td>\n",
       "      <td>['BradDourif', 'BrennanElliott', 'AMartinez', ...</td>\n",
       "      <td>['DonMancini']</td>\n",
       "      <td>After the passing of her mother, a young woman...</td>\n",
       "      <td>['wheelchair', 'horror', 'killer doll', 'escap...</td>\n",
       "      <td>2013-10-04</td>\n",
       "      <td>2013</td>\n",
       "      <td>10</td>\n",
       "      <td>4</td>\n",
       "    </tr>\n",
       "    <tr>\n",
       "      <th>2</th>\n",
       "      <td>72105</td>\n",
       "      <td>https://image.tmdb.org/t/p/original/yLdP2vDa1B...</td>\n",
       "      <td>Ted</td>\n",
       "      <td>6.3</td>\n",
       "      <td>4811.0</td>\n",
       "      <td>6.278421</td>\n",
       "      <td>19.638605</td>\n",
       "      <td>50000000</td>\n",
       "      <td>5.493683e+08</td>\n",
       "      <td>106.0</td>\n",
       "      <td>['Comedy', 'Fantasy']</td>\n",
       "      <td>['English']</td>\n",
       "      <td>['UniversalPictures', 'MediaRightsCapital', 'F...</td>\n",
       "      <td>['UnitedStatesofAmerica']</td>\n",
       "      <td>['MarkWahlberg', 'MilaKunis', 'SethMacFarlane'...</td>\n",
       "      <td>['SethMacFarlane']</td>\n",
       "      <td>John Bennett, a man whose childhood wish of br...</td>\n",
       "      <td>['friendship', 'love', 'teddy bear', 'toy come...</td>\n",
       "      <td>2012-06-29</td>\n",
       "      <td>2012</td>\n",
       "      <td>6</td>\n",
       "      <td>29</td>\n",
       "    </tr>\n",
       "    <tr>\n",
       "      <th>3</th>\n",
       "      <td>10193</td>\n",
       "      <td>https://image.tmdb.org/t/p/original/mMltbSxwEd...</td>\n",
       "      <td>Toy Story 3</td>\n",
       "      <td>7.6</td>\n",
       "      <td>4710.0</td>\n",
       "      <td>7.534747</td>\n",
       "      <td>16.966470</td>\n",
       "      <td>200000000</td>\n",
       "      <td>1.066970e+09</td>\n",
       "      <td>103.0</td>\n",
       "      <td>['Animation', 'Family', 'Comedy']</td>\n",
       "      <td>['English', 'Español']</td>\n",
       "      <td>['WaltDisneyPictures', 'PixarAnimationStudios']</td>\n",
       "      <td>['UnitedStatesofAmerica']</td>\n",
       "      <td>['TomHanks', 'TimAllen', 'NedBeatty', 'JoanCus...</td>\n",
       "      <td>['LeeUnkrich']</td>\n",
       "      <td>Woody, Buzz, and the rest of Andy's toys haven...</td>\n",
       "      <td>['hostage', 'college', 'toy', 'barbie', 'anima...</td>\n",
       "      <td>2010-06-16</td>\n",
       "      <td>2010</td>\n",
       "      <td>6</td>\n",
       "      <td>16</td>\n",
       "    </tr>\n",
       "    <tr>\n",
       "      <th>4</th>\n",
       "      <td>2284</td>\n",
       "      <td>https://image.tmdb.org/t/p/original/75m4IBZE6g...</td>\n",
       "      <td>Mr. Magorium's Wonder Emporium</td>\n",
       "      <td>6.0</td>\n",
       "      <td>365.0</td>\n",
       "      <td>5.888595</td>\n",
       "      <td>8.696467</td>\n",
       "      <td>0</td>\n",
       "      <td>6.947466e+07</td>\n",
       "      <td>93.0</td>\n",
       "      <td>['Comedy']</td>\n",
       "      <td>['English']</td>\n",
       "      <td>['MandatePictures', 'FilmColony', 'WaldenMedia...</td>\n",
       "      <td>['Canada', 'UnitedStatesofAmerica']</td>\n",
       "      <td>['DustinHoffman', 'NataliePortman', 'JasonBate...</td>\n",
       "      <td>['ZachHelm']</td>\n",
       "      <td>Molly Mahoney is the awkward and insecure mana...</td>\n",
       "      <td>['magic', 'fantasy', 'darkness', 'toy', 'sell'...</td>\n",
       "      <td>2007-11-14</td>\n",
       "      <td>2007</td>\n",
       "      <td>11</td>\n",
       "      <td>14</td>\n",
       "    </tr>\n",
       "    <tr>\n",
       "      <th>5</th>\n",
       "      <td>863</td>\n",
       "      <td>https://image.tmdb.org/t/p/original/3CmK3XurcL...</td>\n",
       "      <td>Toy Story 2</td>\n",
       "      <td>7.3</td>\n",
       "      <td>3914.0</td>\n",
       "      <td>7.233928</td>\n",
       "      <td>17.547693</td>\n",
       "      <td>90000000</td>\n",
       "      <td>4.973669e+08</td>\n",
       "      <td>92.0</td>\n",
       "      <td>['Animation', 'Comedy', 'Family']</td>\n",
       "      <td>['English']</td>\n",
       "      <td>['PixarAnimationStudios']</td>\n",
       "      <td>['UnitedStatesofAmerica']</td>\n",
       "      <td>['TomHanks', 'TimAllen', 'JoanCusack', 'Kelsey...</td>\n",
       "      <td>['JohnLasseter']</td>\n",
       "      <td>Andy heads off to Cowboy Camp, leaving his toy...</td>\n",
       "      <td>['museum', 'prosecution', 'identity crisis', '...</td>\n",
       "      <td>1999-10-30</td>\n",
       "      <td>1999</td>\n",
       "      <td>10</td>\n",
       "      <td>30</td>\n",
       "    </tr>\n",
       "    <tr>\n",
       "      <th>6</th>\n",
       "      <td>11551</td>\n",
       "      <td>https://image.tmdb.org/t/p/original/l5laJWvcxg...</td>\n",
       "      <td>Small Soldiers</td>\n",
       "      <td>6.2</td>\n",
       "      <td>522.0</td>\n",
       "      <td>6.066798</td>\n",
       "      <td>10.039360</td>\n",
       "      <td>40000000</td>\n",
       "      <td>5.468255e+07</td>\n",
       "      <td>110.0</td>\n",
       "      <td>['Comedy', 'Adventure', 'Fantasy', 'Science Fi...</td>\n",
       "      <td>['English', 'Français', 'Magyar', 'Español']</td>\n",
       "      <td>['UniversalPictures', 'AmblinEntertainment', '...</td>\n",
       "      <td>['UnitedStatesofAmerica']</td>\n",
       "      <td>['GregorySmith', 'KirstenDunst', 'DenisLeary',...</td>\n",
       "      <td>['JoeDante']</td>\n",
       "      <td>When missile technology is used to enhance toy...</td>\n",
       "      <td>['defense industry', 'toy shop', 'technical to...</td>\n",
       "      <td>1998-07-10</td>\n",
       "      <td>1998</td>\n",
       "      <td>7</td>\n",
       "      <td>10</td>\n",
       "    </tr>\n",
       "    <tr>\n",
       "      <th>7</th>\n",
       "      <td>11186</td>\n",
       "      <td>https://image.tmdb.org/t/p/original/xy0qUntbDO...</td>\n",
       "      <td>Child's Play 2</td>\n",
       "      <td>5.8</td>\n",
       "      <td>323.0</td>\n",
       "      <td>5.745752</td>\n",
       "      <td>14.310479</td>\n",
       "      <td>13000000</td>\n",
       "      <td>3.576360e+07</td>\n",
       "      <td>84.0</td>\n",
       "      <td>['Drama', 'Horror']</td>\n",
       "      <td>['English', 'Türkçe']</td>\n",
       "      <td>['UniversalPictures']</td>\n",
       "      <td>['UnitedStatesofAmerica']</td>\n",
       "      <td>['AlexVincent', 'JennyAgutter', 'GerritGraham'...</td>\n",
       "      <td>['JohnLafia']</td>\n",
       "      <td>Chuckie's back as the doll possessed by the so...</td>\n",
       "      <td>['faithlessness', 'puppet', 'killer toys', 'to...</td>\n",
       "      <td>1990-11-09</td>\n",
       "      <td>1990</td>\n",
       "      <td>11</td>\n",
       "      <td>9</td>\n",
       "    </tr>\n",
       "    <tr>\n",
       "      <th>8</th>\n",
       "      <td>10585</td>\n",
       "      <td>https://image.tmdb.org/t/p/original/dSX9i2buib...</td>\n",
       "      <td>Child's Play</td>\n",
       "      <td>6.3</td>\n",
       "      <td>605.0</td>\n",
       "      <td>6.160091</td>\n",
       "      <td>19.827546</td>\n",
       "      <td>9000000</td>\n",
       "      <td>4.419668e+07</td>\n",
       "      <td>87.0</td>\n",
       "      <td>['Horror', 'Thriller']</td>\n",
       "      <td>['English']</td>\n",
       "      <td>['UnitedArtists']</td>\n",
       "      <td>['UnitedStatesofAmerica']</td>\n",
       "      <td>['CatherineHicks', 'ChrisSarandon', 'AlexVince...</td>\n",
       "      <td>['TomHolland']</td>\n",
       "      <td>A single mother gives her son a beloved doll f...</td>\n",
       "      <td>['gun', 'birthday', 'voodoo', 'toy', 'stalker'...</td>\n",
       "      <td>1988-11-08</td>\n",
       "      <td>1988</td>\n",
       "      <td>11</td>\n",
       "      <td>8</td>\n",
       "    </tr>\n",
       "    <tr>\n",
       "      <th>9</th>\n",
       "      <td>10895</td>\n",
       "      <td>https://image.tmdb.org/t/p/original/7HI8FD4gla...</td>\n",
       "      <td>Pinocchio</td>\n",
       "      <td>6.9</td>\n",
       "      <td>1412.0</td>\n",
       "      <td>6.770070</td>\n",
       "      <td>14.202284</td>\n",
       "      <td>2600000</td>\n",
       "      <td>8.430000e+07</td>\n",
       "      <td>88.0</td>\n",
       "      <td>['Animation', 'Family']</td>\n",
       "      <td>['English']</td>\n",
       "      <td>['RKORadioPictures', 'WaltDisneyProductions']</td>\n",
       "      <td>['UnitedStatesofAmerica']</td>\n",
       "      <td>['MelBlanc', 'DonBrodie', 'WalterCatlett', 'Ma...</td>\n",
       "      <td>['HamiltonLuske']</td>\n",
       "      <td>Lonely toymaker Geppetto has his wishes answer...</td>\n",
       "      <td>['italy', 'lie', 'magic', 'fairy', 'pinocchio'...</td>\n",
       "      <td>1940-02-23</td>\n",
       "      <td>1940</td>\n",
       "      <td>2</td>\n",
       "      <td>23</td>\n",
       "    </tr>\n",
       "  </tbody>\n",
       "</table>\n",
       "</div>"
      ],
      "text/plain": [
       "       id                                        poster_path  \\\n",
       "0  214756  https://image.tmdb.org/t/p/original/A7HtCxFe7M...   \n",
       "1  167032  https://image.tmdb.org/t/p/original/qoFfZa6b9x...   \n",
       "2   72105  https://image.tmdb.org/t/p/original/yLdP2vDa1B...   \n",
       "3   10193  https://image.tmdb.org/t/p/original/mMltbSxwEd...   \n",
       "4    2284  https://image.tmdb.org/t/p/original/75m4IBZE6g...   \n",
       "5     863  https://image.tmdb.org/t/p/original/3CmK3XurcL...   \n",
       "6   11551  https://image.tmdb.org/t/p/original/l5laJWvcxg...   \n",
       "7   11186  https://image.tmdb.org/t/p/original/xy0qUntbDO...   \n",
       "8   10585  https://image.tmdb.org/t/p/original/dSX9i2buib...   \n",
       "9   10895  https://image.tmdb.org/t/p/original/7HI8FD4gla...   \n",
       "\n",
       "                            title  vote_average  vote_count  weighted_rating  \\\n",
       "0                           Ted 2           6.2      2524.0         6.166080   \n",
       "1                 Curse of Chucky           5.6       417.0         5.610518   \n",
       "2                             Ted           6.3      4811.0         6.278421   \n",
       "3                     Toy Story 3           7.6      4710.0         7.534747   \n",
       "4  Mr. Magorium's Wonder Emporium           6.0       365.0         5.888595   \n",
       "5                     Toy Story 2           7.3      3914.0         7.233928   \n",
       "6                  Small Soldiers           6.2       522.0         6.066798   \n",
       "7                  Child's Play 2           5.8       323.0         5.745752   \n",
       "8                    Child's Play           6.3       605.0         6.160091   \n",
       "9                       Pinocchio           6.9      1412.0         6.770070   \n",
       "\n",
       "   popularity     budget       revenue  runtime  \\\n",
       "0   42.061481   68000000  2.170226e+08    115.0   \n",
       "1   15.771245    5000000  0.000000e+00     97.0   \n",
       "2   19.638605   50000000  5.493683e+08    106.0   \n",
       "3   16.966470  200000000  1.066970e+09    103.0   \n",
       "4    8.696467          0  6.947466e+07     93.0   \n",
       "5   17.547693   90000000  4.973669e+08     92.0   \n",
       "6   10.039360   40000000  5.468255e+07    110.0   \n",
       "7   14.310479   13000000  3.576360e+07     84.0   \n",
       "8   19.827546    9000000  4.419668e+07     87.0   \n",
       "9   14.202284    2600000  8.430000e+07     88.0   \n",
       "\n",
       "                                           genre_new  \\\n",
       "0                                         ['Comedy']   \n",
       "1                             ['Horror', 'Thriller']   \n",
       "2                              ['Comedy', 'Fantasy']   \n",
       "3                  ['Animation', 'Family', 'Comedy']   \n",
       "4                                         ['Comedy']   \n",
       "5                  ['Animation', 'Comedy', 'Family']   \n",
       "6  ['Comedy', 'Adventure', 'Fantasy', 'Science Fi...   \n",
       "7                                ['Drama', 'Horror']   \n",
       "8                             ['Horror', 'Thriller']   \n",
       "9                            ['Animation', 'Family']   \n",
       "\n",
       "                                       lang_new  \\\n",
       "0                                   ['English']   \n",
       "1                                   ['English']   \n",
       "2                                   ['English']   \n",
       "3                        ['English', 'Español']   \n",
       "4                                   ['English']   \n",
       "5                                   ['English']   \n",
       "6  ['English', 'Français', 'Magyar', 'Español']   \n",
       "7                         ['English', 'Türkçe']   \n",
       "8                                   ['English']   \n",
       "9                                   ['English']   \n",
       "\n",
       "                                      name_companies  \\\n",
       "0  ['UniversalPictures', 'FuzzyDoorProductions', ...   \n",
       "1                     ['Universal1440Entertainment']   \n",
       "2  ['UniversalPictures', 'MediaRightsCapital', 'F...   \n",
       "3    ['WaltDisneyPictures', 'PixarAnimationStudios']   \n",
       "4  ['MandatePictures', 'FilmColony', 'WaldenMedia...   \n",
       "5                          ['PixarAnimationStudios']   \n",
       "6  ['UniversalPictures', 'AmblinEntertainment', '...   \n",
       "7                              ['UniversalPictures']   \n",
       "8                                  ['UnitedArtists']   \n",
       "9      ['RKORadioPictures', 'WaltDisneyProductions']   \n",
       "\n",
       "                          name_country  \\\n",
       "0            ['UnitedStatesofAmerica']   \n",
       "1            ['UnitedStatesofAmerica']   \n",
       "2            ['UnitedStatesofAmerica']   \n",
       "3            ['UnitedStatesofAmerica']   \n",
       "4  ['Canada', 'UnitedStatesofAmerica']   \n",
       "5            ['UnitedStatesofAmerica']   \n",
       "6            ['UnitedStatesofAmerica']   \n",
       "7            ['UnitedStatesofAmerica']   \n",
       "8            ['UnitedStatesofAmerica']   \n",
       "9            ['UnitedStatesofAmerica']   \n",
       "\n",
       "                                           cast_name       director_name  \\\n",
       "0  ['MarkWahlberg', 'SethMacFarlane', 'AmandaSeyf...  ['SethMacFarlane']   \n",
       "1  ['BradDourif', 'BrennanElliott', 'AMartinez', ...      ['DonMancini']   \n",
       "2  ['MarkWahlberg', 'MilaKunis', 'SethMacFarlane'...  ['SethMacFarlane']   \n",
       "3  ['TomHanks', 'TimAllen', 'NedBeatty', 'JoanCus...      ['LeeUnkrich']   \n",
       "4  ['DustinHoffman', 'NataliePortman', 'JasonBate...        ['ZachHelm']   \n",
       "5  ['TomHanks', 'TimAllen', 'JoanCusack', 'Kelsey...    ['JohnLasseter']   \n",
       "6  ['GregorySmith', 'KirstenDunst', 'DenisLeary',...        ['JoeDante']   \n",
       "7  ['AlexVincent', 'JennyAgutter', 'GerritGraham'...       ['JohnLafia']   \n",
       "8  ['CatherineHicks', 'ChrisSarandon', 'AlexVince...      ['TomHolland']   \n",
       "9  ['MelBlanc', 'DonBrodie', 'WalterCatlett', 'Ma...   ['HamiltonLuske']   \n",
       "\n",
       "                                            overview  \\\n",
       "0  Newlywed couple Ted and Tami-Lynn want to have...   \n",
       "1  After the passing of her mother, a young woman...   \n",
       "2  John Bennett, a man whose childhood wish of br...   \n",
       "3  Woody, Buzz, and the rest of Andy's toys haven...   \n",
       "4  Molly Mahoney is the awkward and insecure mana...   \n",
       "5  Andy heads off to Cowboy Camp, leaving his toy...   \n",
       "6  When missile technology is used to enhance toy...   \n",
       "7  Chuckie's back as the doll possessed by the so...   \n",
       "8  A single mother gives her son a beloved doll f...   \n",
       "9  Lonely toymaker Geppetto has his wishes answer...   \n",
       "\n",
       "                                               words release_date  year  \\\n",
       "0  ['sperm bank', 'sequel', 'buddy', 'courthouse'...   2015-06-25  2015   \n",
       "1  ['wheelchair', 'horror', 'killer doll', 'escap...   2013-10-04  2013   \n",
       "2  ['friendship', 'love', 'teddy bear', 'toy come...   2012-06-29  2012   \n",
       "3  ['hostage', 'college', 'toy', 'barbie', 'anima...   2010-06-16  2010   \n",
       "4  ['magic', 'fantasy', 'darkness', 'toy', 'sell'...   2007-11-14  2007   \n",
       "5  ['museum', 'prosecution', 'identity crisis', '...   1999-10-30  1999   \n",
       "6  ['defense industry', 'toy shop', 'technical to...   1998-07-10  1998   \n",
       "7  ['faithlessness', 'puppet', 'killer toys', 'to...   1990-11-09  1990   \n",
       "8  ['gun', 'birthday', 'voodoo', 'toy', 'stalker'...   1988-11-08  1988   \n",
       "9  ['italy', 'lie', 'magic', 'fairy', 'pinocchio'...   1940-02-23  1940   \n",
       "\n",
       "   month  day  \n",
       "0      6   25  \n",
       "1     10    4  \n",
       "2      6   29  \n",
       "3      6   16  \n",
       "4     11   14  \n",
       "5     10   30  \n",
       "6      7   10  \n",
       "7     11    9  \n",
       "8     11    8  \n",
       "9      2   23  "
      ]
     },
     "execution_count": 39,
     "metadata": {},
     "output_type": "execute_result"
    }
   ],
   "source": [
    "pd.merge(md_terpilih, df_head, on='title', how='right')"
   ]
  },
  {
   "cell_type": "code",
   "execution_count": 40,
   "metadata": {},
   "outputs": [
    {
     "name": "stdout",
     "output_type": "stream",
     "text": [
      "title\n",
      "Small Soldiers                    0.559503\n",
      "Toy Story 3                       0.508168\n",
      "Child's Play 2                    0.442326\n",
      "Ted                               0.440086\n",
      "Child's Play                      0.430528\n",
      "Pinocchio                         0.373002\n",
      "Toy Story 2                       0.348481\n",
      "Curse of Chucky                   0.346989\n",
      "Ted 2                             0.346989\n",
      "Mr. Magorium's Wonder Emporium    0.323029\n",
      "Name: Toy Story, dtype: float64\n"
     ]
    }
   ],
   "source": [
    "rec_key('Toy Story')"
   ]
  },
  {
   "cell_type": "code",
   "execution_count": 41,
   "metadata": {},
   "outputs": [],
   "source": [
    "# perintah export pickle\n",
    "filename = 'df_sim_score_keywords.sav'\n",
    "outfile = open(filename,'wb')\n",
    "\n",
    "pickle.dump(df_key_rec, outfile)\n",
    "outfile.close()"
   ]
  },
  {
   "cell_type": "markdown",
   "metadata": {},
   "source": [
    "### Based on Cast and director"
   ]
  },
  {
   "cell_type": "code",
   "execution_count": 42,
   "metadata": {},
   "outputs": [],
   "source": [
    "cv4 = CountVectorizer() \n",
    "cv_cast = cv4.fit_transform(cb_genres['cast_name'])\n",
    "\n",
    "cv5 = CountVectorizer() \n",
    "cv_director = cv5.fit_transform(cb_genres['director_name'])"
   ]
  },
  {
   "cell_type": "code",
   "execution_count": 43,
   "metadata": {},
   "outputs": [],
   "source": [
    "cos_sim_cast = cosine_similarity(cv_cast)\n",
    "cos_sim_director = cosine_similarity(cv_director)"
   ]
  },
  {
   "cell_type": "code",
   "execution_count": 44,
   "metadata": {},
   "outputs": [],
   "source": [
    "score_sim_gabung = (cos_sim_cast*0.7) + (cos_sim_director*0.3)"
   ]
  },
  {
   "cell_type": "code",
   "execution_count": 45,
   "metadata": {},
   "outputs": [],
   "source": [
    "df_gabung_rec = pd.DataFrame(score_sim_gabung, index=cb_genres['title'], columns=cb_genres['title'])"
   ]
  },
  {
   "cell_type": "code",
   "execution_count": 46,
   "metadata": {},
   "outputs": [],
   "source": [
    "def rec_gabung(title):\n",
    "    simpan = df_gabung_rec[title].sort_values(ascending=False)\n",
    "    simpan = simpan.drop(index=[title])\n",
    "    print(simpan.head(10))"
   ]
  },
  {
   "cell_type": "code",
   "execution_count": 47,
   "metadata": {
    "scrolled": true
   },
   "outputs": [
    {
     "name": "stdout",
     "output_type": "stream",
     "text": [
      "title\n",
      "Toy Story 2                    0.696297\n",
      "Cars                           0.382369\n",
      "A Bug's Life                   0.347087\n",
      "Cars 2                         0.328319\n",
      "Toy Story 3                    0.257626\n",
      "The Polar Express              0.061394\n",
      "The Texas Chainsaw Massacre    0.058537\n",
      "The Santa Clause               0.058537\n",
      "A Hologram for the King        0.056045\n",
      "The Incredibles                0.056045\n",
      "Name: Toy Story, dtype: float64\n"
     ]
    }
   ],
   "source": [
    "rec_gabung('Toy Story')"
   ]
  },
  {
   "cell_type": "code",
   "execution_count": 48,
   "metadata": {},
   "outputs": [],
   "source": [
    "# perintah export pickle\n",
    "filename = 'df_sim_gabung_CastDirector.sav'\n",
    "outfile = open(filename,'wb')\n",
    "\n",
    "pickle.dump(df_gabung_rec, outfile)\n",
    "outfile.close()"
   ]
  },
  {
   "cell_type": "markdown",
   "metadata": {},
   "source": [
    "# Collaborative Filtering"
   ]
  },
  {
   "cell_type": "code",
   "execution_count": 49,
   "metadata": {},
   "outputs": [],
   "source": [
    "md_rating = pd.read_csv('ratings_small.csv')"
   ]
  },
  {
   "cell_type": "code",
   "execution_count": 50,
   "metadata": {},
   "outputs": [],
   "source": [
    "md_rating['timestamp'] = pd.to_datetime(md_rating['timestamp'], unit='s')"
   ]
  },
  {
   "cell_type": "code",
   "execution_count": 51,
   "metadata": {},
   "outputs": [
    {
     "name": "stdout",
     "output_type": "stream",
     "text": [
      "shape rating :  (100004, 4)\n",
      "shape data :    (41292, 22)\n"
     ]
    }
   ],
   "source": [
    "print(\"shape rating : \", md_rating.shape)\n",
    "print(\"shape data :   \", md_terpilih.shape)"
   ]
  },
  {
   "cell_type": "code",
   "execution_count": 52,
   "metadata": {},
   "outputs": [
    {
     "data": {
      "text/html": [
       "<div>\n",
       "<style scoped>\n",
       "    .dataframe tbody tr th:only-of-type {\n",
       "        vertical-align: middle;\n",
       "    }\n",
       "\n",
       "    .dataframe tbody tr th {\n",
       "        vertical-align: top;\n",
       "    }\n",
       "\n",
       "    .dataframe thead th {\n",
       "        text-align: right;\n",
       "    }\n",
       "</style>\n",
       "<table border=\"1\" class=\"dataframe\">\n",
       "  <thead>\n",
       "    <tr style=\"text-align: right;\">\n",
       "      <th></th>\n",
       "      <th>userId</th>\n",
       "      <th>movieId</th>\n",
       "      <th>rating</th>\n",
       "      <th>timestamp</th>\n",
       "    </tr>\n",
       "  </thead>\n",
       "  <tbody>\n",
       "    <tr>\n",
       "      <th>0</th>\n",
       "      <td>1</td>\n",
       "      <td>31</td>\n",
       "      <td>2.5</td>\n",
       "      <td>2009-12-14 02:52:24</td>\n",
       "    </tr>\n",
       "    <tr>\n",
       "      <th>1</th>\n",
       "      <td>1</td>\n",
       "      <td>1029</td>\n",
       "      <td>3.0</td>\n",
       "      <td>2009-12-14 02:52:59</td>\n",
       "    </tr>\n",
       "  </tbody>\n",
       "</table>\n",
       "</div>"
      ],
      "text/plain": [
       "   userId  movieId  rating           timestamp\n",
       "0       1       31     2.5 2009-12-14 02:52:24\n",
       "1       1     1029     3.0 2009-12-14 02:52:59"
      ]
     },
     "execution_count": 52,
     "metadata": {},
     "output_type": "execute_result"
    }
   ],
   "source": [
    "md_rating.head(2)"
   ]
  },
  {
   "cell_type": "code",
   "execution_count": 53,
   "metadata": {},
   "outputs": [],
   "source": [
    "md_rating.rename(columns={'movieId' : 'id'}, inplace=True)"
   ]
  },
  {
   "cell_type": "code",
   "execution_count": 54,
   "metadata": {
    "scrolled": true
   },
   "outputs": [
    {
     "data": {
      "text/html": [
       "<div>\n",
       "<style scoped>\n",
       "    .dataframe tbody tr th:only-of-type {\n",
       "        vertical-align: middle;\n",
       "    }\n",
       "\n",
       "    .dataframe tbody tr th {\n",
       "        vertical-align: top;\n",
       "    }\n",
       "\n",
       "    .dataframe thead th {\n",
       "        text-align: right;\n",
       "    }\n",
       "</style>\n",
       "<table border=\"1\" class=\"dataframe\">\n",
       "  <thead>\n",
       "    <tr style=\"text-align: right;\">\n",
       "      <th></th>\n",
       "      <th>userId</th>\n",
       "      <th>id</th>\n",
       "      <th>rating</th>\n",
       "      <th>timestamp</th>\n",
       "    </tr>\n",
       "  </thead>\n",
       "  <tbody>\n",
       "    <tr>\n",
       "      <th>0</th>\n",
       "      <td>1</td>\n",
       "      <td>31</td>\n",
       "      <td>2.5</td>\n",
       "      <td>2009-12-14 02:52:24</td>\n",
       "    </tr>\n",
       "    <tr>\n",
       "      <th>1</th>\n",
       "      <td>1</td>\n",
       "      <td>1029</td>\n",
       "      <td>3.0</td>\n",
       "      <td>2009-12-14 02:52:59</td>\n",
       "    </tr>\n",
       "  </tbody>\n",
       "</table>\n",
       "</div>"
      ],
      "text/plain": [
       "   userId    id  rating           timestamp\n",
       "0       1    31     2.5 2009-12-14 02:52:24\n",
       "1       1  1029     3.0 2009-12-14 02:52:59"
      ]
     },
     "execution_count": 54,
     "metadata": {},
     "output_type": "execute_result"
    }
   ],
   "source": [
    "md_rating.head(2)"
   ]
  },
  {
   "cell_type": "code",
   "execution_count": 55,
   "metadata": {},
   "outputs": [
    {
     "data": {
      "text/html": [
       "<div>\n",
       "<style scoped>\n",
       "    .dataframe tbody tr th:only-of-type {\n",
       "        vertical-align: middle;\n",
       "    }\n",
       "\n",
       "    .dataframe tbody tr th {\n",
       "        vertical-align: top;\n",
       "    }\n",
       "\n",
       "    .dataframe thead th {\n",
       "        text-align: right;\n",
       "    }\n",
       "</style>\n",
       "<table border=\"1\" class=\"dataframe\">\n",
       "  <thead>\n",
       "    <tr style=\"text-align: right;\">\n",
       "      <th></th>\n",
       "      <th>id</th>\n",
       "      <th>userId</th>\n",
       "      <th>title</th>\n",
       "      <th>rating</th>\n",
       "    </tr>\n",
       "  </thead>\n",
       "  <tbody>\n",
       "    <tr>\n",
       "      <th>0</th>\n",
       "      <td>86835</td>\n",
       "      <td>176</td>\n",
       "      <td>Knight of Cups</td>\n",
       "      <td>2.0</td>\n",
       "    </tr>\n",
       "    <tr>\n",
       "      <th>1</th>\n",
       "      <td>86835</td>\n",
       "      <td>213</td>\n",
       "      <td>Knight of Cups</td>\n",
       "      <td>3.0</td>\n",
       "    </tr>\n",
       "    <tr>\n",
       "      <th>2</th>\n",
       "      <td>86835</td>\n",
       "      <td>268</td>\n",
       "      <td>Knight of Cups</td>\n",
       "      <td>1.5</td>\n",
       "    </tr>\n",
       "    <tr>\n",
       "      <th>3</th>\n",
       "      <td>86835</td>\n",
       "      <td>615</td>\n",
       "      <td>Knight of Cups</td>\n",
       "      <td>1.5</td>\n",
       "    </tr>\n",
       "    <tr>\n",
       "      <th>4</th>\n",
       "      <td>189</td>\n",
       "      <td>564</td>\n",
       "      <td>Sin City: A Dame to Kill For</td>\n",
       "      <td>4.0</td>\n",
       "    </tr>\n",
       "  </tbody>\n",
       "</table>\n",
       "</div>"
      ],
      "text/plain": [
       "      id  userId                         title  rating\n",
       "0  86835     176                Knight of Cups     2.0\n",
       "1  86835     213                Knight of Cups     3.0\n",
       "2  86835     268                Knight of Cups     1.5\n",
       "3  86835     615                Knight of Cups     1.5\n",
       "4    189     564  Sin City: A Dame to Kill For     4.0"
      ]
     },
     "execution_count": 55,
     "metadata": {},
     "output_type": "execute_result"
    }
   ],
   "source": [
    "user = pd.merge(md_terpilih, md_rating, on='id', how='right')\n",
    "user = user[['id', 'userId','title','rating']]\n",
    "user.head()"
   ]
  },
  {
   "cell_type": "code",
   "execution_count": 56,
   "metadata": {},
   "outputs": [
    {
     "name": "stdout",
     "output_type": "stream",
     "text": [
      "sebelum di merger:  (41292, 22)\n",
      "sebelum di merger:  (100004, 4)\n",
      "hasil merge:  (100004, 4)\n",
      "hasil droppna:  (42691, 4)\n"
     ]
    }
   ],
   "source": [
    "print('sebelum di merger: ', md_terpilih.shape)\n",
    "print('sebelum di merger: ', md_rating.shape)\n",
    "print('hasil merge: ',user.shape)\n",
    "user.dropna(inplace=True)\n",
    "print('hasil droppna: ',user.shape)"
   ]
  },
  {
   "cell_type": "code",
   "execution_count": 57,
   "metadata": {},
   "outputs": [
    {
     "name": "stdout",
     "output_type": "stream",
     "text": [
      "<class 'pandas.core.frame.DataFrame'>\n",
      "Int64Index: 42691 entries, 0 to 42690\n",
      "Data columns (total 4 columns):\n",
      "id        42691 non-null int64\n",
      "userId    42691 non-null int64\n",
      "title     42691 non-null object\n",
      "rating    42691 non-null float64\n",
      "dtypes: float64(1), int64(2), object(1)\n",
      "memory usage: 1.6+ MB\n"
     ]
    }
   ],
   "source": [
    "user.info()"
   ]
  },
  {
   "cell_type": "code",
   "execution_count": 58,
   "metadata": {},
   "outputs": [
    {
     "name": "stdout",
     "output_type": "stream",
     "text": [
      "user_pivot_shape:  (2657, 671)\n",
      "user_pivot_shape affter thresh:  (1294, 671)\n"
     ]
    }
   ],
   "source": [
    "user_pivot = user.pivot_table(columns='userId', index='title', values='rating')\n",
    "print(\"user_pivot_shape: \",user_pivot.shape)\n",
    "user_pivot.dropna(thresh=5, inplace=True) # film yang mendapat minal 5 rate\n",
    "user_pivot.fillna(0,inplace=True)\n",
    "print(\"user_pivot_shape affter thresh: \",user_pivot.shape)"
   ]
  },
  {
   "cell_type": "code",
   "execution_count": 59,
   "metadata": {},
   "outputs": [],
   "source": [
    "cos_sim_cf_item = cosine_similarity(user_pivot) # menhasilkan hubungan userid dan film\n",
    "df_sim_user_movie = pd.DataFrame(cos_sim_cf_item, columns=user_pivot.index, index=user_pivot.index)"
   ]
  },
  {
   "cell_type": "code",
   "execution_count": 60,
   "metadata": {},
   "outputs": [],
   "source": [
    "def rec_item(user_rated_movie):\n",
    "    sum_movie_score = df_sim_user_movie['Titanic']*(0)\n",
    "    judul=[]\n",
    "    for item in user_rated_movie:\n",
    "        sum_movie_score += df_sim_user_movie[item[0]] * (item[1]-2.5)\n",
    "        judul.append(item[0])\n",
    "    hai = sum_movie_score.sort_values(ascending=False)\n",
    "    hai.drop(index=judul, inplace=True)\n",
    "    return hai.head(10)"
   ]
  },
  {
   "cell_type": "code",
   "execution_count": 61,
   "metadata": {},
   "outputs": [],
   "source": [
    "user_1 = [['Titanic', 2], ['A Perfect Murder', 5]]"
   ]
  },
  {
   "cell_type": "code",
   "execution_count": 62,
   "metadata": {},
   "outputs": [
    {
     "data": {
      "text/plain": [
       "title\n",
       "Cold Mountain              1.111590\n",
       "Aelita: Queen of Mars      1.066985\n",
       "Prime                      1.024644\n",
       "Yella                      0.992567\n",
       "Lonely Hearts              0.971798\n",
       "Payback                    0.959759\n",
       "While You Were Sleeping    0.935344\n",
       "8 Women                    0.922429\n",
       "Superman                   0.920909\n",
       "24 Hour Party People       0.909247\n",
       "Name: Titanic, dtype: float64"
      ]
     },
     "execution_count": 62,
     "metadata": {},
     "output_type": "execute_result"
    }
   ],
   "source": [
    "rec_item(user_1)"
   ]
  },
  {
   "cell_type": "code",
   "execution_count": 63,
   "metadata": {},
   "outputs": [],
   "source": [
    "# perintah export pickle\n",
    "filename = 'df_sim_item_based.sav'\n",
    "outfile = open(filename,'wb')\n",
    "\n",
    "pickle.dump(df_sim_user_movie, outfile)\n",
    "outfile.close()"
   ]
  },
  {
   "cell_type": "markdown",
   "metadata": {},
   "source": [
    "## user based CF"
   ]
  },
  {
   "cell_type": "code",
   "execution_count": 64,
   "metadata": {},
   "outputs": [
    {
     "data": {
      "text/html": [
       "<div>\n",
       "<style scoped>\n",
       "    .dataframe tbody tr th:only-of-type {\n",
       "        vertical-align: middle;\n",
       "    }\n",
       "\n",
       "    .dataframe tbody tr th {\n",
       "        vertical-align: top;\n",
       "    }\n",
       "\n",
       "    .dataframe thead th {\n",
       "        text-align: right;\n",
       "    }\n",
       "</style>\n",
       "<table border=\"1\" class=\"dataframe\">\n",
       "  <thead>\n",
       "    <tr style=\"text-align: right;\">\n",
       "      <th></th>\n",
       "      <th>userId</th>\n",
       "      <th>movieId</th>\n",
       "      <th>rating</th>\n",
       "      <th>timestamp</th>\n",
       "    </tr>\n",
       "  </thead>\n",
       "  <tbody>\n",
       "    <tr>\n",
       "      <th>count</th>\n",
       "      <td>100004.000000</td>\n",
       "      <td>100004.000000</td>\n",
       "      <td>100004.000000</td>\n",
       "      <td>1.000040e+05</td>\n",
       "    </tr>\n",
       "    <tr>\n",
       "      <th>mean</th>\n",
       "      <td>347.011310</td>\n",
       "      <td>12548.664363</td>\n",
       "      <td>3.543608</td>\n",
       "      <td>1.129639e+09</td>\n",
       "    </tr>\n",
       "    <tr>\n",
       "      <th>std</th>\n",
       "      <td>195.163838</td>\n",
       "      <td>26369.198969</td>\n",
       "      <td>1.058064</td>\n",
       "      <td>1.916858e+08</td>\n",
       "    </tr>\n",
       "    <tr>\n",
       "      <th>min</th>\n",
       "      <td>1.000000</td>\n",
       "      <td>1.000000</td>\n",
       "      <td>0.500000</td>\n",
       "      <td>7.896520e+08</td>\n",
       "    </tr>\n",
       "    <tr>\n",
       "      <th>25%</th>\n",
       "      <td>182.000000</td>\n",
       "      <td>1028.000000</td>\n",
       "      <td>3.000000</td>\n",
       "      <td>9.658478e+08</td>\n",
       "    </tr>\n",
       "    <tr>\n",
       "      <th>50%</th>\n",
       "      <td>367.000000</td>\n",
       "      <td>2406.500000</td>\n",
       "      <td>4.000000</td>\n",
       "      <td>1.110422e+09</td>\n",
       "    </tr>\n",
       "    <tr>\n",
       "      <th>75%</th>\n",
       "      <td>520.000000</td>\n",
       "      <td>5418.000000</td>\n",
       "      <td>4.000000</td>\n",
       "      <td>1.296192e+09</td>\n",
       "    </tr>\n",
       "    <tr>\n",
       "      <th>max</th>\n",
       "      <td>671.000000</td>\n",
       "      <td>163949.000000</td>\n",
       "      <td>5.000000</td>\n",
       "      <td>1.476641e+09</td>\n",
       "    </tr>\n",
       "  </tbody>\n",
       "</table>\n",
       "</div>"
      ],
      "text/plain": [
       "              userId        movieId         rating     timestamp\n",
       "count  100004.000000  100004.000000  100004.000000  1.000040e+05\n",
       "mean      347.011310   12548.664363       3.543608  1.129639e+09\n",
       "std       195.163838   26369.198969       1.058064  1.916858e+08\n",
       "min         1.000000       1.000000       0.500000  7.896520e+08\n",
       "25%       182.000000    1028.000000       3.000000  9.658478e+08\n",
       "50%       367.000000    2406.500000       4.000000  1.110422e+09\n",
       "75%       520.000000    5418.000000       4.000000  1.296192e+09\n",
       "max       671.000000  163949.000000       5.000000  1.476641e+09"
      ]
     },
     "execution_count": 64,
     "metadata": {},
     "output_type": "execute_result"
    }
   ],
   "source": [
    "md_rating_small.describe()"
   ]
  },
  {
   "cell_type": "code",
   "execution_count": 65,
   "metadata": {},
   "outputs": [
    {
     "data": {
      "text/html": [
       "<div>\n",
       "<style scoped>\n",
       "    .dataframe tbody tr th:only-of-type {\n",
       "        vertical-align: middle;\n",
       "    }\n",
       "\n",
       "    .dataframe tbody tr th {\n",
       "        vertical-align: top;\n",
       "    }\n",
       "\n",
       "    .dataframe thead th {\n",
       "        text-align: right;\n",
       "    }\n",
       "</style>\n",
       "<table border=\"1\" class=\"dataframe\">\n",
       "  <thead>\n",
       "    <tr style=\"text-align: right;\">\n",
       "      <th></th>\n",
       "      <th>userId</th>\n",
       "      <th>movieId</th>\n",
       "      <th>rating</th>\n",
       "      <th>timestamp</th>\n",
       "    </tr>\n",
       "  </thead>\n",
       "  <tbody>\n",
       "    <tr>\n",
       "      <th>0</th>\n",
       "      <td>1</td>\n",
       "      <td>31</td>\n",
       "      <td>2.5</td>\n",
       "      <td>1260759144</td>\n",
       "    </tr>\n",
       "    <tr>\n",
       "      <th>1</th>\n",
       "      <td>1</td>\n",
       "      <td>1029</td>\n",
       "      <td>3.0</td>\n",
       "      <td>1260759179</td>\n",
       "    </tr>\n",
       "  </tbody>\n",
       "</table>\n",
       "</div>"
      ],
      "text/plain": [
       "   userId  movieId  rating   timestamp\n",
       "0       1       31     2.5  1260759144\n",
       "1       1     1029     3.0  1260759179"
      ]
     },
     "execution_count": 65,
     "metadata": {},
     "output_type": "execute_result"
    }
   ],
   "source": [
    "md_rating_small.head(2)"
   ]
  },
  {
   "cell_type": "code",
   "execution_count": 66,
   "metadata": {
    "scrolled": true
   },
   "outputs": [],
   "source": [
    "df_pivot_user = md_rating_small.pivot_table(index='userId', columns='movieId', values='rating')\n",
    "df_pivot_user = df_pivot_user.dropna(thresh=30).fillna(0)\n",
    "cos_sim_cf_user = cosine_similarity(df_pivot_user) # menhasilkan hubungan userid dan film\n",
    "df_sim_cf_user = pd.DataFrame(cos_sim_cf_user, index=df_pivot_user.index, columns=df_pivot_user.index)"
   ]
  },
  {
   "cell_type": "code",
   "execution_count": 67,
   "metadata": {},
   "outputs": [
    {
     "data": {
      "text/plain": [
       "movieId\n",
       "597      5.0\n",
       "2081     5.0\n",
       "1035     5.0\n",
       "1380     5.0\n",
       "33166    5.0\n",
       "Name: 5, dtype: float64"
      ]
     },
     "execution_count": 67,
     "metadata": {},
     "output_type": "execute_result"
    }
   ],
   "source": [
    "# misal\n",
    "df_pivot_user.loc[5].sort_values(ascending=False).head()"
   ]
  },
  {
   "cell_type": "code",
   "execution_count": 68,
   "metadata": {},
   "outputs": [],
   "source": [
    "new_user = [[265,5],[266,5],[592,5],[590,5],[589,5]]"
   ]
  },
  {
   "cell_type": "code",
   "execution_count": 69,
   "metadata": {},
   "outputs": [],
   "source": [
    "# contoh input data\n",
    "df_pivot_user.loc[ df_pivot_user.index[-1] + 1, [265,266,592,590,589]] = [3,4,5,5,5]\n",
    "df_pivot_user.fillna(0,inplace=True)"
   ]
  },
  {
   "cell_type": "code",
   "execution_count": 70,
   "metadata": {},
   "outputs": [
    {
     "data": {
      "text/plain": [
       "672"
      ]
     },
     "execution_count": 70,
     "metadata": {},
     "output_type": "execute_result"
    }
   ],
   "source": [
    "df_pivot_user.index[-1]"
   ]
  },
  {
   "cell_type": "code",
   "execution_count": 71,
   "metadata": {
    "scrolled": false
   },
   "outputs": [
    {
     "data": {
      "text/plain": [
       "movieId\n",
       "265    3.0\n",
       "266    4.0\n",
       "592    5.0\n",
       "590    5.0\n",
       "589    5.0\n",
       "Name: 672, dtype: float64"
      ]
     },
     "execution_count": 71,
     "metadata": {},
     "output_type": "execute_result"
    }
   ],
   "source": [
    "df_pivot_user.loc[df_pivot_user.index[-1], [265,266,592,590,589]]"
   ]
  },
  {
   "cell_type": "code",
   "execution_count": 72,
   "metadata": {},
   "outputs": [],
   "source": [
    "sim_user_again = cosine_similarity(df_pivot_user)\n",
    "\n",
    "user_id_similar = pd.DataFrame(sim_user_again,\n",
    "                               columns=df_pivot_user.index,\n",
    "                               index=df_pivot_user.index)\n",
    "\n",
    "halo = user_id_similar[df_pivot_user.index[-1]].sort_values(ascending=False)[1:11].index\n",
    "\n",
    "serr = []\n",
    "for id in halo:\n",
    "#     print(id)\n",
    "    movie_rating = df_pivot_user.loc[id]\n",
    "    serr.append(movie_rating)"
   ]
  },
  {
   "cell_type": "code",
   "execution_count": 73,
   "metadata": {},
   "outputs": [],
   "source": [
    "movie_id_user = (sum(serr)/10).sort_values(ascending=False).head(20)"
   ]
  },
  {
   "cell_type": "code",
   "execution_count": 74,
   "metadata": {},
   "outputs": [
    {
     "data": {
      "text/plain": [
       "movieId\n",
       "590    4.4\n",
       "589    4.2\n",
       "480    4.1\n",
       "356    3.5\n",
       "457    3.3\n",
       "588    3.3\n",
       "377    3.2\n",
       "592    3.2\n",
       "150    3.0\n",
       "593    3.0\n",
       "165    2.9\n",
       "364    2.8\n",
       "527    2.6\n",
       "587    2.5\n",
       "316    2.5\n",
       "110    2.5\n",
       "380    2.4\n",
       "47     2.3\n",
       "296    2.3\n",
       "595    2.2\n",
       "dtype: float64"
      ]
     },
     "execution_count": 74,
     "metadata": {},
     "output_type": "execute_result"
    }
   ],
   "source": [
    "movie_id_user"
   ]
  },
  {
   "cell_type": "code",
   "execution_count": 75,
   "metadata": {},
   "outputs": [
    {
     "data": {
      "text/plain": [
       "0"
      ]
     },
     "execution_count": 75,
     "metadata": {},
     "output_type": "execute_result"
    }
   ],
   "source": [
    "len([])"
   ]
  },
  {
   "cell_type": "code",
   "execution_count": 81,
   "metadata": {},
   "outputs": [
    {
     "name": "stdout",
     "output_type": "stream",
     "text": [
      "The Hours\n",
      "Monsoon Wedding\n",
      "Sissi\n",
      "Silent Hill\n",
      "A Nightmare on Elm Street\n",
      "The Conversation\n",
      "48 Hrs.\n",
      "Solaris\n",
      "Back to the Future Part II\n",
      "Batman Returns\n"
     ]
    }
   ],
   "source": [
    "i=0\n",
    "for item in movie_id_user.index:\n",
    "    our_rec = md_terpilih[md_terpilih['id'] == item]['title'].values\n",
    "    if(len(our_rec)!=0):\n",
    "        print(md_terpilih[md_terpilih['id'] == item]['title'].values[0])\n",
    "        i+=1\n",
    "        if(i>=10):\n",
    "            break\n",
    "    \n",
    "# md_terpilih[md_terpilih['id'] == 265]['title'].values[0]"
   ]
  },
  {
   "cell_type": "code",
   "execution_count": 84,
   "metadata": {},
   "outputs": [],
   "source": [
    "def get_recom_user_based(user_ratings):\n",
    "    ls_id_movie=[]\n",
    "    ls_rate_movie=[]\n",
    "    print(df_pivot_user.index[-1])\n",
    "    for item in range(len(user_ratings)):\n",
    "        ls_id_movie.append(user_ratings[item][0])\n",
    "        ls_rate_movie.append(user_ratings[item][1])\n",
    "    df_pivot_user.loc[ df_pivot_user.index[-1] + 1, ls_id_movie] = ls_rate_movie\n",
    "    df_pivot_user.fillna(0,inplace=True)\n",
    "    \n",
    "    sim_user_again = cosine_similarity(df_pivot_user)\n",
    "    user_id_similar = pd.DataFrame(sim_user_again,\n",
    "                                   columns=df_pivot_user.index,\n",
    "                                   index=df_pivot_user.index)\n",
    "    \n",
    "    halo = user_id_similar[df_pivot_user.index[-1]].sort_values(ascending=False)[1:11].index\n",
    "\n",
    "    serr = []\n",
    "    for id in halo:\n",
    "    #     print(id)\n",
    "        movie_rating = df_pivot_user.loc[id]\n",
    "        serr.append(movie_rating)\n",
    "        \n",
    "    movie_id_user = (sum(serr)/20).sort_values(ascending=False).head(20).index\n",
    "    \n",
    "    i=0\n",
    "    for item in movie_id_user:\n",
    "        our_rec = md_terpilih[md_terpilih['id'] == item]['title'].values\n",
    "        if(len(our_rec)!=0):\n",
    "            print(md_terpilih[md_terpilih['id'] == item]['title'].values[0])\n",
    "            i+=1\n",
    "            if(i>=10):\n",
    "                break    "
   ]
  },
  {
   "cell_type": "code",
   "execution_count": 78,
   "metadata": {},
   "outputs": [],
   "source": [
    "new_user1 = [[265,5],[266,5],[592,1],[590,2],[589,3]]\n",
    "new_user2 = [[265,1],[1035,5],[592,5],[590,1],[33166,5], [589,5]]"
   ]
  },
  {
   "cell_type": "code",
   "execution_count": 85,
   "metadata": {},
   "outputs": [
    {
     "name": "stdout",
     "output_type": "stream",
     "text": [
      "675\n",
      "Contempt\n",
      "The Hours\n",
      "The Conversation\n",
      "Lili Marleen\n",
      "A Nightmare on Elm Street\n",
      "Sissi\n",
      "Once Were Warriors\n",
      "48 Hrs.\n",
      "Monsoon Wedding\n",
      "Back to the Future Part II\n"
     ]
    }
   ],
   "source": [
    "#if have a new user\n",
    "get_recom_user_based(new_user1)"
   ]
  },
  {
   "cell_type": "code",
   "execution_count": 86,
   "metadata": {},
   "outputs": [
    {
     "name": "stdout",
     "output_type": "stream",
     "text": [
      "676\n",
      "The Conversation\n",
      "Contempt\n",
      "The Hours\n",
      "Lili Marleen\n",
      "Monsoon Wedding\n",
      "Sissi\n",
      "Cockles and Muscles\n",
      "Back to the Future Part II\n",
      "Terminator 3: Rise of the Machines\n",
      "Lost in Translation\n"
     ]
    }
   ],
   "source": [
    "#if have a new user\n",
    "get_recom_user_based(new_user2)"
   ]
  },
  {
   "cell_type": "markdown",
   "metadata": {},
   "source": [
    "# ========================================================"
   ]
  }
 ],
 "metadata": {
  "kernelspec": {
   "display_name": "Python 3",
   "language": "python",
   "name": "python3"
  },
  "language_info": {
   "codemirror_mode": {
    "name": "ipython",
    "version": 3
   },
   "file_extension": ".py",
   "mimetype": "text/x-python",
   "name": "python",
   "nbconvert_exporter": "python",
   "pygments_lexer": "ipython3",
   "version": "3.7.5"
  }
 },
 "nbformat": 4,
 "nbformat_minor": 2
}
